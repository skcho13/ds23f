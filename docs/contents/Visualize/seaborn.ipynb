{
 "cells": [
  {
   "cell_type": "raw",
   "metadata": {},
   "source": [
    "---\n",
    "title: The seaborn.objects interface\n",
    "subtitle: mixed\n",
    "date: last-modified\n",
    "author: Sungkyun Cho\n",
    "---"
   ]
  },
  {
   "attachments": {},
   "cell_type": "markdown",
   "metadata": {},
   "source": [
    "# The seaborn.objects interface\n",
    "\n",
    "The grammer of graphics의 데이터 시각화 이론을 잘 반영하고 있으며 아직 발전 중\n",
    "\n",
    "기존 seaborn modules을 완전히 대체하지는 못하므로 필요시 병행하여 사용\n",
    "\n",
    "> v0.12.0 (September 2022)\n",
    "> \n",
    "> Introduction of the objects interface\n",
    "> \n",
    "> This release debuts the seaborn.objects interface, an entirely new approach to making plots with seaborn. It is the product of **several years of design and 16 months of implementation work**. The interface aims to provide a more declarative, composable, and extensible API for making statistical graphics. It is inspired by **Wilkinson’s grammar of graphics**, offering a Pythonic API that is informed by the design of libraries such as **ggplot2 and vega-lite** along with lessons from the past 10 years of seaborn’s development.\n",
    "\n",
    "::: {.callout-caution}\n",
    "# Caution\n",
    "\n",
    "The objects interface is currently **experimental and incomplete**. It is stable enough for serious use, but there certainly are some rough edges and missing features.\n",
    "\n",
    ":::\n",
    "\n",
    "- [The seaborn.objects interface tutorial](https://seaborn.pydata.org/tutorial/objects_interface.html)\n",
    "- [API reference](https://seaborn.pydata.org/api.html)"
   ]
  }
 ],
 "metadata": {
  "kernelspec": {
   "display_name": "Python 3",
   "language": "python",
   "name": "python3"
  },
  "language_info": {
   "codemirror_mode": {
    "name": "ipython",
    "version": 3
   },
   "file_extension": ".py",
   "mimetype": "text/x-python",
   "name": "python",
   "nbconvert_exporter": "python",
   "pygments_lexer": "ipython3",
   "version": "3.10.12"
  },
  "orig_nbformat": 4,
  "vscode": {
   "interpreter": {
    "hash": "aee8b7b246df8f9039afb4144a1f6fd8d2ca17a180786b69acc140d282b71a49"
   }
  }
 },
 "nbformat": 4,
 "nbformat_minor": 2
}
